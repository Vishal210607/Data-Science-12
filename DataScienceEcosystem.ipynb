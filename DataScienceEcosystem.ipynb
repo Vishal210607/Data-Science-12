{
 "cells": [
  {
   "cell_type": "markdown",
   "id": "07b76c27-2e71-40aa-b520-7ba92bc1ff27",
   "metadata": {},
   "source": [
    "# Data Science Tools and Ecosystem"
   ]
  },
  {
   "cell_type": "markdown",
   "id": "7e8f1219-2ce4-4822-a57e-2671c3acc9e9",
   "metadata": {},
   "source": [
    "In this notebook, Data Science Tools and Ecosystem are summarized."
   ]
  },
  {
   "cell_type": "markdown",
   "id": "7e53d260-3106-4d51-9ef3-1e07550653c8",
   "metadata": {},
   "source": [
    "Some of the popular languages that Data Scientists use are:\n",
    "1. Python\n",
    "2. R\n",
    "3. Julia \n",
    "4. Java"
   ]
  },
  {
   "cell_type": "markdown",
   "id": "5ab12d80-c876-4411-87ac-2c80e5a3bf77",
   "metadata": {},
   "source": [
    "Some of the commonly used libraries used by Data Scientists include:\n",
    "1. Pandas\n",
    "2. Numpy\n",
    "3. TensorFlow\n",
    "4. SciPy\n",
    "5. Matplotlib \n"
   ]
  },
  {
   "cell_type": "markdown",
   "id": "fbc5fef6-46a6-415f-9373-6a9bd13bc158",
   "metadata": {},
   "source": [
    "| Data Science Tools |\n",
    "| ---------- |\n",
    "| Apache Spark |\n",
    "| Hadoop |\n",
    "| Sci-Learn |\n",
    "| Apache Airflow |\n"
   ]
  },
  {
   "cell_type": "markdown",
   "id": "57fede2e-410a-4fce-8472-e8469935b5c2",
   "metadata": {},
   "source": [
    "### Below are a few examples of evaluating arithmetic expressions in Python."
   ]
  },
  {
   "cell_type": "code",
   "execution_count": 8,
   "id": "edd82e0a-38b1-4ce4-93c6-715a4bbba88e",
   "metadata": {
    "tags": []
   },
   "outputs": [
    {
     "data": {
      "text/plain": [
       "17"
      ]
     },
     "execution_count": 8,
     "metadata": {},
     "output_type": "execute_result"
    }
   ],
   "source": [
    "# This a simple arithmetic expression to mutiply then add integers.\n",
    "(3*4)+5"
   ]
  },
  {
   "cell_type": "code",
   "execution_count": 9,
   "id": "06e232b6-5252-4447-9607-96306a68a351",
   "metadata": {
    "tags": []
   },
   "outputs": [
    {
     "data": {
      "text/plain": [
       "3"
      ]
     },
     "execution_count": 9,
     "metadata": {},
     "output_type": "execute_result"
    }
   ],
   "source": [
    "# This will convert 200 minutes to hours by diving by 60.\n",
    "200 // 60"
   ]
  },
  {
   "cell_type": "markdown",
   "id": "78045e5b-3ad2-4c9b-919e-ac8185f35be6",
   "metadata": {},
   "source": [
    "__Objectives:__\n",
    "#### List popular languages for Data Science.\n",
    "* Python\n",
    "* R\n",
    "* Julia\n",
    "* Java\n",
    "* Scala\n",
    "* JavaScript\n",
    "* SQL"
   ]
  },
  {
   "cell_type": "code",
   "execution_count": null,
   "id": "46fbcdfc-ecc2-423e-887b-83c64db853c9",
   "metadata": {},
   "outputs": [],
   "source": []
  },
  {
   "cell_type": "markdown",
   "id": "e00d047f-7c47-40e9-9274-c676c81aea29",
   "metadata": {},
   "source": [
    "## Author:\n",
    " Vishal Suralkar"
   ]
  }
 ],
 "metadata": {
  "kernelspec": {
   "display_name": "Python",
   "language": "python",
   "name": "conda-env-python-py"
  },
  "language_info": {
   "codemirror_mode": {
    "name": "ipython",
    "version": 3
   },
   "file_extension": ".py",
   "mimetype": "text/x-python",
   "name": "python",
   "nbconvert_exporter": "python",
   "pygments_lexer": "ipython3",
   "version": "3.7.12"
  }
 },
 "nbformat": 4,
 "nbformat_minor": 5
}
